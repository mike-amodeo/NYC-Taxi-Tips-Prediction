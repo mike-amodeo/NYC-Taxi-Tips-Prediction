{
 "cells": [
  {
   "cell_type": "markdown",
   "metadata": {},
   "source": [
    "This notebook is written to predict the tip on a taxi ride using data from the NYC Taxi and Limousine Commission. The data can be found here:\n",
    "http://www.nyc.gov/html/tlc/html/about/trip_record_data.shtml\n",
    "\n",
    "I have already completed some initial Exploratory Data Analysis and feature creation that can be found in another notebook in this same folder, labeled \"Taxi Fares and Tips 1 EDA.\" This notebook picks up by importing the output from that notebook"
   ]
  },
  {
   "cell_type": "code",
   "execution_count": 1,
   "metadata": {},
   "outputs": [],
   "source": [
    "import numpy as np\n",
    "import pandas as pd\n",
    "import matplotlib.pyplot as plt\n",
    "from sklearn.linear_model import LinearRegression"
   ]
  },
  {
   "cell_type": "markdown",
   "metadata": {},
   "source": [
    "## Data Import"
   ]
  },
  {
   "cell_type": "code",
   "execution_count": 2,
   "metadata": {},
   "outputs": [
    {
     "data": {
      "text/html": [
       "<div>\n",
       "<style scoped>\n",
       "    .dataframe tbody tr th:only-of-type {\n",
       "        vertical-align: middle;\n",
       "    }\n",
       "\n",
       "    .dataframe tbody tr th {\n",
       "        vertical-align: top;\n",
       "    }\n",
       "\n",
       "    .dataframe thead th {\n",
       "        text-align: right;\n",
       "    }\n",
       "</style>\n",
       "<table border=\"1\" class=\"dataframe\">\n",
       "  <thead>\n",
       "    <tr style=\"text-align: right;\">\n",
       "      <th></th>\n",
       "      <th>Unnamed: 0</th>\n",
       "      <th>tip_amount</th>\n",
       "      <th>nontip_total</th>\n",
       "      <th>JFK</th>\n",
       "      <th>long_dist</th>\n",
       "      <th>negotiated</th>\n",
       "      <th>passenger_count</th>\n",
       "      <th>trip_distance</th>\n",
       "      <th>PULocationID</th>\n",
       "      <th>DOLocationID</th>\n",
       "      <th>fare_amount</th>\n",
       "      <th>Hour</th>\n",
       "    </tr>\n",
       "  </thead>\n",
       "  <tbody>\n",
       "    <tr>\n",
       "      <th>0</th>\n",
       "      <td>0</td>\n",
       "      <td>3.06</td>\n",
       "      <td>15.3</td>\n",
       "      <td>0</td>\n",
       "      <td>0</td>\n",
       "      <td>0</td>\n",
       "      <td>1</td>\n",
       "      <td>4.06</td>\n",
       "      <td>148</td>\n",
       "      <td>48</td>\n",
       "      <td>14.0</td>\n",
       "      <td>21</td>\n",
       "    </tr>\n",
       "    <tr>\n",
       "      <th>1</th>\n",
       "      <td>2</td>\n",
       "      <td>2.82</td>\n",
       "      <td>11.3</td>\n",
       "      <td>0</td>\n",
       "      <td>0</td>\n",
       "      <td>0</td>\n",
       "      <td>1</td>\n",
       "      <td>2.27</td>\n",
       "      <td>79</td>\n",
       "      <td>162</td>\n",
       "      <td>10.0</td>\n",
       "      <td>22</td>\n",
       "    </tr>\n",
       "    <tr>\n",
       "      <th>2</th>\n",
       "      <td>3</td>\n",
       "      <td>3.99</td>\n",
       "      <td>13.3</td>\n",
       "      <td>0</td>\n",
       "      <td>0</td>\n",
       "      <td>0</td>\n",
       "      <td>1</td>\n",
       "      <td>3.86</td>\n",
       "      <td>237</td>\n",
       "      <td>41</td>\n",
       "      <td>12.0</td>\n",
       "      <td>22</td>\n",
       "    </tr>\n",
       "    <tr>\n",
       "      <th>3</th>\n",
       "      <td>5</td>\n",
       "      <td>1.00</td>\n",
       "      <td>13.8</td>\n",
       "      <td>0</td>\n",
       "      <td>0</td>\n",
       "      <td>0</td>\n",
       "      <td>1</td>\n",
       "      <td>2.80</td>\n",
       "      <td>261</td>\n",
       "      <td>79</td>\n",
       "      <td>12.5</td>\n",
       "      <td>0</td>\n",
       "    </tr>\n",
       "    <tr>\n",
       "      <th>4</th>\n",
       "      <td>6</td>\n",
       "      <td>3.50</td>\n",
       "      <td>20.8</td>\n",
       "      <td>0</td>\n",
       "      <td>0</td>\n",
       "      <td>0</td>\n",
       "      <td>1</td>\n",
       "      <td>6.00</td>\n",
       "      <td>87</td>\n",
       "      <td>142</td>\n",
       "      <td>19.5</td>\n",
       "      <td>0</td>\n",
       "    </tr>\n",
       "  </tbody>\n",
       "</table>\n",
       "</div>"
      ],
      "text/plain": [
       "   Unnamed: 0  tip_amount  nontip_total  JFK  long_dist  negotiated  \\\n",
       "0           0        3.06          15.3    0          0           0   \n",
       "1           2        2.82          11.3    0          0           0   \n",
       "2           3        3.99          13.3    0          0           0   \n",
       "3           5        1.00          13.8    0          0           0   \n",
       "4           6        3.50          20.8    0          0           0   \n",
       "\n",
       "   passenger_count  trip_distance  PULocationID  DOLocationID  fare_amount  \\\n",
       "0                1           4.06           148            48         14.0   \n",
       "1                1           2.27            79           162         10.0   \n",
       "2                1           3.86           237            41         12.0   \n",
       "3                1           2.80           261            79         12.5   \n",
       "4                1           6.00            87           142         19.5   \n",
       "\n",
       "   Hour  \n",
       "0    21  \n",
       "1    22  \n",
       "2    22  \n",
       "3     0  \n",
       "4     0  "
      ]
     },
     "execution_count": 2,
     "metadata": {},
     "output_type": "execute_result"
    }
   ],
   "source": [
    "rides = pd.read_csv('fares_modified.csv')\n",
    "rides.head()"
   ]
  },
  {
   "cell_type": "code",
   "execution_count": 3,
   "metadata": {},
   "outputs": [
    {
     "data": {
      "text/html": [
       "<div>\n",
       "<style scoped>\n",
       "    .dataframe tbody tr th:only-of-type {\n",
       "        vertical-align: middle;\n",
       "    }\n",
       "\n",
       "    .dataframe tbody tr th {\n",
       "        vertical-align: top;\n",
       "    }\n",
       "\n",
       "    .dataframe thead th {\n",
       "        text-align: right;\n",
       "    }\n",
       "</style>\n",
       "<table border=\"1\" class=\"dataframe\">\n",
       "  <thead>\n",
       "    <tr style=\"text-align: right;\">\n",
       "      <th></th>\n",
       "      <th>Unnamed: 0</th>\n",
       "      <th>tip_amount</th>\n",
       "      <th>nontip_total</th>\n",
       "      <th>JFK</th>\n",
       "      <th>long_dist</th>\n",
       "      <th>negotiated</th>\n",
       "      <th>passenger_count</th>\n",
       "      <th>trip_distance</th>\n",
       "      <th>PULocationID</th>\n",
       "      <th>DOLocationID</th>\n",
       "      <th>fare_amount</th>\n",
       "      <th>Hour</th>\n",
       "    </tr>\n",
       "  </thead>\n",
       "  <tbody>\n",
       "    <tr>\n",
       "      <th>count</th>\n",
       "      <td>1.966351e+07</td>\n",
       "      <td>1.966351e+07</td>\n",
       "      <td>1.966351e+07</td>\n",
       "      <td>1.966351e+07</td>\n",
       "      <td>1.966351e+07</td>\n",
       "      <td>1.966351e+07</td>\n",
       "      <td>1.966351e+07</td>\n",
       "      <td>1.966351e+07</td>\n",
       "      <td>1.966351e+07</td>\n",
       "      <td>1.966351e+07</td>\n",
       "      <td>1.966351e+07</td>\n",
       "      <td>1.966351e+07</td>\n",
       "    </tr>\n",
       "    <tr>\n",
       "      <th>mean</th>\n",
       "      <td>4.870824e+06</td>\n",
       "      <td>2.683253e+00</td>\n",
       "      <td>1.459874e+01</td>\n",
       "      <td>1.948848e-02</td>\n",
       "      <td>5.003175e-04</td>\n",
       "      <td>1.385866e-03</td>\n",
       "      <td>1.605654e+00</td>\n",
       "      <td>2.968104e+00</td>\n",
       "      <td>1.636731e+02</td>\n",
       "      <td>1.617935e+02</td>\n",
       "      <td>1.315047e+01</td>\n",
       "      <td>1.377119e+01</td>\n",
       "    </tr>\n",
       "    <tr>\n",
       "      <th>std</th>\n",
       "      <td>2.831709e+06</td>\n",
       "      <td>2.570890e+00</td>\n",
       "      <td>1.143792e+01</td>\n",
       "      <td>1.382342e-01</td>\n",
       "      <td>2.236218e-02</td>\n",
       "      <td>3.720142e-02</td>\n",
       "      <td>1.257207e+00</td>\n",
       "      <td>3.587089e+00</td>\n",
       "      <td>6.616061e+01</td>\n",
       "      <td>6.992782e+01</td>\n",
       "      <td>1.059817e+01</td>\n",
       "      <td>6.319762e+00</td>\n",
       "    </tr>\n",
       "    <tr>\n",
       "      <th>min</th>\n",
       "      <td>0.000000e+00</td>\n",
       "      <td>0.000000e+00</td>\n",
       "      <td>8.000000e-01</td>\n",
       "      <td>0.000000e+00</td>\n",
       "      <td>0.000000e+00</td>\n",
       "      <td>0.000000e+00</td>\n",
       "      <td>0.000000e+00</td>\n",
       "      <td>0.000000e+00</td>\n",
       "      <td>1.000000e+00</td>\n",
       "      <td>1.000000e+00</td>\n",
       "      <td>0.000000e+00</td>\n",
       "      <td>0.000000e+00</td>\n",
       "    </tr>\n",
       "    <tr>\n",
       "      <th>25%</th>\n",
       "      <td>2.433342e+06</td>\n",
       "      <td>1.350000e+00</td>\n",
       "      <td>7.800000e+00</td>\n",
       "      <td>0.000000e+00</td>\n",
       "      <td>0.000000e+00</td>\n",
       "      <td>0.000000e+00</td>\n",
       "      <td>1.000000e+00</td>\n",
       "      <td>1.000000e+00</td>\n",
       "      <td>1.140000e+02</td>\n",
       "      <td>1.120000e+02</td>\n",
       "      <td>7.000000e+00</td>\n",
       "      <td>9.000000e+00</td>\n",
       "    </tr>\n",
       "    <tr>\n",
       "      <th>50%</th>\n",
       "      <td>4.843632e+06</td>\n",
       "      <td>2.000000e+00</td>\n",
       "      <td>1.080000e+01</td>\n",
       "      <td>0.000000e+00</td>\n",
       "      <td>0.000000e+00</td>\n",
       "      <td>0.000000e+00</td>\n",
       "      <td>1.000000e+00</td>\n",
       "      <td>1.700000e+00</td>\n",
       "      <td>1.620000e+02</td>\n",
       "      <td>1.620000e+02</td>\n",
       "      <td>9.500000e+00</td>\n",
       "      <td>1.400000e+01</td>\n",
       "    </tr>\n",
       "    <tr>\n",
       "      <th>75%</th>\n",
       "      <td>7.300513e+06</td>\n",
       "      <td>3.050000e+00</td>\n",
       "      <td>1.630000e+01</td>\n",
       "      <td>0.000000e+00</td>\n",
       "      <td>0.000000e+00</td>\n",
       "      <td>0.000000e+00</td>\n",
       "      <td>2.000000e+00</td>\n",
       "      <td>3.160000e+00</td>\n",
       "      <td>2.330000e+02</td>\n",
       "      <td>2.340000e+02</td>\n",
       "      <td>1.500000e+01</td>\n",
       "      <td>1.900000e+01</td>\n",
       "    </tr>\n",
       "    <tr>\n",
       "      <th>max</th>\n",
       "      <td>1.029457e+07</td>\n",
       "      <td>4.500000e+02</td>\n",
       "      <td>4.998000e+02</td>\n",
       "      <td>1.000000e+00</td>\n",
       "      <td>1.000000e+00</td>\n",
       "      <td>1.000000e+00</td>\n",
       "      <td>9.000000e+00</td>\n",
       "      <td>3.011000e+02</td>\n",
       "      <td>2.650000e+02</td>\n",
       "      <td>2.650000e+02</td>\n",
       "      <td>4.990000e+02</td>\n",
       "      <td>2.300000e+01</td>\n",
       "    </tr>\n",
       "  </tbody>\n",
       "</table>\n",
       "</div>"
      ],
      "text/plain": [
       "         Unnamed: 0    tip_amount  nontip_total           JFK     long_dist  \\\n",
       "count  1.966351e+07  1.966351e+07  1.966351e+07  1.966351e+07  1.966351e+07   \n",
       "mean   4.870824e+06  2.683253e+00  1.459874e+01  1.948848e-02  5.003175e-04   \n",
       "std    2.831709e+06  2.570890e+00  1.143792e+01  1.382342e-01  2.236218e-02   \n",
       "min    0.000000e+00  0.000000e+00  8.000000e-01  0.000000e+00  0.000000e+00   \n",
       "25%    2.433342e+06  1.350000e+00  7.800000e+00  0.000000e+00  0.000000e+00   \n",
       "50%    4.843632e+06  2.000000e+00  1.080000e+01  0.000000e+00  0.000000e+00   \n",
       "75%    7.300513e+06  3.050000e+00  1.630000e+01  0.000000e+00  0.000000e+00   \n",
       "max    1.029457e+07  4.500000e+02  4.998000e+02  1.000000e+00  1.000000e+00   \n",
       "\n",
       "         negotiated  passenger_count  trip_distance  PULocationID  \\\n",
       "count  1.966351e+07     1.966351e+07   1.966351e+07  1.966351e+07   \n",
       "mean   1.385866e-03     1.605654e+00   2.968104e+00  1.636731e+02   \n",
       "std    3.720142e-02     1.257207e+00   3.587089e+00  6.616061e+01   \n",
       "min    0.000000e+00     0.000000e+00   0.000000e+00  1.000000e+00   \n",
       "25%    0.000000e+00     1.000000e+00   1.000000e+00  1.140000e+02   \n",
       "50%    0.000000e+00     1.000000e+00   1.700000e+00  1.620000e+02   \n",
       "75%    0.000000e+00     2.000000e+00   3.160000e+00  2.330000e+02   \n",
       "max    1.000000e+00     9.000000e+00   3.011000e+02  2.650000e+02   \n",
       "\n",
       "       DOLocationID   fare_amount          Hour  \n",
       "count  1.966351e+07  1.966351e+07  1.966351e+07  \n",
       "mean   1.617935e+02  1.315047e+01  1.377119e+01  \n",
       "std    6.992782e+01  1.059817e+01  6.319762e+00  \n",
       "min    1.000000e+00  0.000000e+00  0.000000e+00  \n",
       "25%    1.120000e+02  7.000000e+00  9.000000e+00  \n",
       "50%    1.620000e+02  9.500000e+00  1.400000e+01  \n",
       "75%    2.340000e+02  1.500000e+01  1.900000e+01  \n",
       "max    2.650000e+02  4.990000e+02  2.300000e+01  "
      ]
     },
     "execution_count": 3,
     "metadata": {},
     "output_type": "execute_result"
    }
   ],
   "source": [
    "rides.describe()"
   ]
  },
  {
   "cell_type": "markdown",
   "metadata": {},
   "source": [
    "## Model Building\n",
    "\n",
    "As discussed in the previous notebook, the tip on a taxi ride is a continuous variable, so I am going to try to predict it as a continuous variable, at least at first. Creating buckets could be helpful, especially because people often tip in round numbers anyway. But for now, I am going to use a linear regression model with the several factors I isolated through EDA. \n",
    "\n",
    "The **tip_amount** will be our label that we are trying to predict. The **nontip_total** represents a sum of all the costs associated with the ride not including the tip. This includes the fare and any tolls, taxes, or special fees. **JFK** indicates a ride going to or originating at JFK International Airport. These rides have set prices, and that will impact the tip. **long_dist** is also an indicator variable signifying rides that left the city. This is typically Nassau and Westchester counties. **negotiated** is a third indicator variable that denotes whether the fare was previously negotiated. For these three, a value of 1 is true.\n",
    "\n",
    "### Data Prep"
   ]
  },
  {
   "cell_type": "code",
   "execution_count": 4,
   "metadata": {},
   "outputs": [
    {
     "data": {
      "text/plain": [
       "19663513"
      ]
     },
     "execution_count": 4,
     "metadata": {},
     "output_type": "execute_result"
    }
   ],
   "source": [
    "# Separate features and labels, but first randomize the order\n",
    "rides = rides.sample(frac=1).reset_index(drop=True)\n",
    "rides.shape[0]"
   ]
  },
  {
   "cell_type": "code",
   "execution_count": 5,
   "metadata": {},
   "outputs": [
    {
     "data": {
      "text/plain": [
       "15730810.4"
      ]
     },
     "execution_count": 5,
     "metadata": {},
     "output_type": "execute_result"
    }
   ],
   "source": [
    "# Want to use 80% for training and 20% for testing\n",
    "19663513*0.8"
   ]
  },
  {
   "cell_type": "markdown",
   "metadata": {},
   "source": [
    "### Simple Linear Regression Model"
   ]
  },
  {
   "cell_type": "code",
   "execution_count": 12,
   "metadata": {},
   "outputs": [],
   "source": [
    "feature_fields = ['nontip_total', 'JFK', 'long_dist', 'negotiated']"
   ]
  },
  {
   "cell_type": "code",
   "execution_count": 13,
   "metadata": {},
   "outputs": [],
   "source": [
    "# Train and Test Split\n",
    "labels = rides['tip_amount']\n",
    "features = rides[feature_fields]\n",
    "train_labels = labels[:15730810]\n",
    "train_features = features[:15730810]\n",
    "test_labels = labels[15730810:]\n",
    "test_features = features[15730810:]"
   ]
  },
  {
   "cell_type": "code",
   "execution_count": 14,
   "metadata": {},
   "outputs": [
    {
     "name": "stdout",
     "output_type": "stream",
     "text": [
      "(15730810,) (15730810, 4) (3932703,) (3932703, 4)\n"
     ]
    }
   ],
   "source": [
    "print(train_labels.shape, train_features.shape, test_labels.shape, test_features.shape)"
   ]
  },
  {
   "cell_type": "code",
   "execution_count": 15,
   "metadata": {},
   "outputs": [
    {
     "data": {
      "text/plain": [
       "0.5929864724550085"
      ]
     },
     "execution_count": 15,
     "metadata": {},
     "output_type": "execute_result"
    }
   ],
   "source": [
    "model = LinearRegression().fit(train_features, train_labels)\n",
    "model.score(test_features, test_labels)"
   ]
  },
  {
   "cell_type": "code",
   "execution_count": 16,
   "metadata": {},
   "outputs": [
    {
     "data": {
      "text/plain": [
       "array([ 0.17206323,  0.34529672, -0.87046181, -2.82608446])"
      ]
     },
     "execution_count": 16,
     "metadata": {},
     "output_type": "execute_result"
    }
   ],
   "source": [
    "model.coef_"
   ]
  },
  {
   "cell_type": "code",
   "execution_count": 17,
   "metadata": {},
   "outputs": [
    {
     "data": {
      "text/plain": [
       "array([3.14587012, 1.16714298, 2.11349074, ..., 1.2531746 , 1.16714298,\n",
       "       2.28555397])"
      ]
     },
     "execution_count": 17,
     "metadata": {},
     "output_type": "execute_result"
    }
   ],
   "source": [
    "preds = model.predict(test_features)\n",
    "preds"
   ]
  },
  {
   "cell_type": "code",
   "execution_count": 18,
   "metadata": {},
   "outputs": [
    {
     "data": {
      "image/png": "[encoded data removed]",
      "text/plain": [
       "<matplotlib.figure.Figure at 0x13a3ea5a4e0>"
      ]
     },
     "metadata": {},
     "output_type": "display_data"
    }
   ],
   "source": [
    "plt.scatter(test_features['nontip_total'], test_labels, alpha = 0.2, color = 'blue')\n",
    "plt.scatter(test_features['nontip_total'], preds, alpha = 0.2, color = 'red')\n",
    "plt.show()"
   ]
  },
  {
   "cell_type": "markdown",
   "metadata": {},
   "source": [
    "A simple linear regression is not going to get much better than what I have already shown. Different random seeds produced R squared values between 0.55 and 0.60. This is probably to be expected as there is a lot of variance throughout the dataset, and the correlation coefficient of **tip_amount** and **nontip_total** was shown to be 0.59. Cross-validation could help stabilize this number, but given the size of the dataset, I am not concerned with cross-validation at the moment.\n",
    "\n",
    "What we see in the coefficients is that a tip is typically 17% of the pre-tip total cost. If the rider is coming from JFK, they will add on average 35 cents to their tip. For someone traveling to destinations outside the city, they will deduct 87 cents from that 17% number. This makes sense since a long distance ride probably has a higher fare and people are likely to tip at a lower percentage. Similarly, pre-negotiated rates are tipping $2.80 less than a trip of similar cost.\n",
    "\n",
    "I'll add a stochastic gradient descent regressor and a decision tree regressor to see if I can improve the performance, but really, it would be good if there were ways to supplement the data and add features that might explain this variance. \n",
    "\n",
    "Ultimately, tipping varies from person to person, so that probably explains a lot of the variance. Having data on riders the way Uber or Lyft do might allow me to create tipping profiles of individual users to better predict a tip on each ride. Similarly, Uber and Lyft data on rider and driver ratings might also go a long way towards predicting the quality of the ride and therefore the tip.\n",
    "\n",
    "Of the data we have, the pickup and dropoff locations might be helpful, so i'll add them in another model, probably with a tree. But this would really take some work of knowing where the zones are to better predict tip amounts.\n",
    "\n",
    "Also, by limiting the rides that I used to build the model based on the filters I set up, there are many conditions I am not testing for. So really, I should be bringing all the original data back in for testing, but I am currently trying to build something reliable off the good data. I know the accuracy will decrease if and when I bring in new data streams in a production environment, but for the purposes of time, I am working with the 20M records I imported here."
   ]
  },
  {
   "cell_type": "markdown",
   "metadata": {},
   "source": [
    "### Stochastic Gradient Descent Regressor"
   ]
  },
  {
   "cell_type": "code",
   "execution_count": 19,
   "metadata": {},
   "outputs": [
    {
     "data": {
      "text/plain": [
       "Index(['Unnamed: 0', 'tip_amount', 'nontip_total', 'JFK', 'long_dist',\n",
       "       'negotiated', 'passenger_count', 'trip_distance', 'PULocationID',\n",
       "       'DOLocationID', 'fare_amount', 'Hour'],\n",
       "      dtype='object')"
      ]
     },
     "execution_count": 19,
     "metadata": {},
     "output_type": "execute_result"
    }
   ],
   "source": [
    "rides.columns"
   ]
  },
  {
   "cell_type": "code",
   "execution_count": 27,
   "metadata": {},
   "outputs": [],
   "source": [
    "#select fields for inclusion in model\n",
    "feature_fields_SGDR = ['nontip_total', 'JFK', 'long_dist', 'negotiated']\n",
    "\n",
    "#Shuffle entries\n",
    "rides = rides.sample(frac=1).reset_index(drop=True)\n",
    "\n",
    "# Train and Test Split\n",
    "labels = rides['tip_amount']\n",
    "features = rides[feature_fields_SGDR]\n",
    "train_labels = labels[:15730810]\n",
    "train_features = features[:15730810]\n",
    "test_labels = labels[15730810:]\n",
    "test_features = features[15730810:]"
   ]
  },
  {
   "cell_type": "code",
   "execution_count": 28,
   "metadata": {},
   "outputs": [],
   "source": [
    "# Normalize before using gradient descent\n",
    "from sklearn.preprocessing import StandardScaler\n",
    "scaler = StandardScaler()\n",
    "scaler.fit(train_features)  # Don't cheat - fit only on training data\n",
    "train_features = scaler.transform(train_features)\n",
    "test_features = scaler.transform(test_features)"
   ]
  },
  {
   "cell_type": "code",
   "execution_count": 29,
   "metadata": {},
   "outputs": [
    {
     "name": "stderr",
     "output_type": "stream",
     "text": [
      "C:\\Anaconda3\\lib\\site-packages\\sklearn\\linear_model\\stochastic_gradient.py:128: FutureWarning: max_iter and tol parameters have been added in <class 'sklearn.linear_model.stochastic_gradient.SGDRegressor'> in 0.19. If both are left unset, they default to max_iter=5 and tol=None. If tol is not None, max_iter defaults to max_iter=1000. From 0.21, default max_iter will be 1000, and default tol will be 1e-3.\n",
      "  \"and default tol will be 1e-3.\" % type(self), FutureWarning)\n"
     ]
    },
    {
     "data": {
      "text/plain": [
       "0.6039400542273853"
      ]
     },
     "execution_count": 29,
     "metadata": {},
     "output_type": "execute_result"
    }
   ],
   "source": [
    "from sklearn.linear_model import SGDRegressor\n",
    "model_SGDR = SGDRegressor()\n",
    "model_SGDR.fit(train_features, train_labels)\n",
    "model_SGDR.score(test_features, test_labels)"
   ]
  },
  {
   "cell_type": "code",
   "execution_count": 24,
   "metadata": {},
   "outputs": [],
   "source": [
    "#select fields for inclusion in model\n",
    "feature_fields_SGDR = ['nontip_total', 'JFK', 'long_dist', 'negotiated', 'passenger_count', 'trip_distance', 'PULocationID',\n",
    "       'DOLocationID', 'fare_amount', 'Hour']\n",
    "\n",
    "#Shuffle entries\n",
    "rides = rides.sample(frac=1).reset_index(drop=True)\n",
    "\n",
    "# Train and Test Split\n",
    "labels = rides['tip_amount']\n",
    "features = rides[feature_fields_SGDR]\n",
    "train_labels = labels[:15730810]\n",
    "train_features = features[:15730810]\n",
    "test_labels = labels[15730810:]\n",
    "test_features = features[15730810:]"
   ]
  },
  {
   "cell_type": "code",
   "execution_count": 25,
   "metadata": {},
   "outputs": [],
   "source": [
    "# Normalize before using gradient descent\n",
    "from sklearn.preprocessing import StandardScaler\n",
    "scaler = StandardScaler()\n",
    "scaler.fit(train_features)  # Don't cheat - fit only on training data\n",
    "train_features = scaler.transform(train_features)\n",
    "test_features = scaler.transform(test_features)"
   ]
  },
  {
   "cell_type": "code",
   "execution_count": 26,
   "metadata": {},
   "outputs": [
    {
     "name": "stderr",
     "output_type": "stream",
     "text": [
      "C:\\Anaconda3\\lib\\site-packages\\sklearn\\linear_model\\stochastic_gradient.py:128: FutureWarning: max_iter and tol parameters have been added in <class 'sklearn.linear_model.stochastic_gradient.SGDRegressor'> in 0.19. If both are left unset, they default to max_iter=5 and tol=None. If tol is not None, max_iter defaults to max_iter=1000. From 0.21, default max_iter will be 1000, and default tol will be 1e-3.\n",
      "  \"and default tol will be 1e-3.\" % type(self), FutureWarning)\n"
     ]
    },
    {
     "data": {
      "text/plain": [
       "0.5922924117219461"
      ]
     },
     "execution_count": 26,
     "metadata": {},
     "output_type": "execute_result"
    }
   ],
   "source": [
    "from sklearn.linear_model import SGDRegressor\n",
    "model_SGDR = SGDRegressor()\n",
    "model_SGDR.fit(train_features, train_labels)\n",
    "model_SGDR.score(test_features, test_labels)"
   ]
  },
  {
   "cell_type": "markdown",
   "metadata": {},
   "source": [
    "Essentially the same results, even with more data. The R squared value is staying the same, but given all the extra data, the model performance is actually getting worse if you were to evaluate an adjusted R squared. Let's try a tree and give it more data to see if we can improve performance.\n",
    "\n",
    "### Tree Regressor"
   ]
  },
  {
   "cell_type": "code",
   "execution_count": 30,
   "metadata": {},
   "outputs": [],
   "source": [
    "#select fields for inclusion in model\n",
    "feature_fields_Tree = ['nontip_total', 'JFK', 'long_dist', 'negotiated', 'passenger_count', 'trip_distance', 'PULocationID',\n",
    "       'DOLocationID', 'fare_amount', 'Hour']\n",
    "\n",
    "#Shuffle entries\n",
    "rides = rides.sample(frac=1).reset_index(drop=True)\n",
    "\n",
    "# Train and Test Split\n",
    "labels = rides['tip_amount']\n",
    "features = rides[feature_fields_Tree]\n",
    "train_labels = labels[:15730810]\n",
    "train_features = features[:15730810]\n",
    "test_labels = labels[15730810:]\n",
    "test_features = features[15730810:]"
   ]
  },
  {
   "cell_type": "code",
   "execution_count": 31,
   "metadata": {},
   "outputs": [
    {
     "data": {
      "text/plain": [
       "0.197037471710799"
      ]
     },
     "execution_count": 31,
     "metadata": {},
     "output_type": "execute_result"
    }
   ],
   "source": [
    "from sklearn.tree import DecisionTreeRegressor\n",
    "regressor = DecisionTreeRegressor(random_state=0)\n",
    "regressor.fit(train_features, train_labels)\n",
    "regressor.score(test_features, test_labels)"
   ]
  },
  {
   "cell_type": "markdown",
   "metadata": {},
   "source": [
    "## Conclusions"
   ]
  },
  {
   "cell_type": "markdown",
   "metadata": {},
   "source": [
    "Given the time limit on the problem, I was not able to find a model that would work better than a simple linear regression based primarily on the pre-tip trip cost. This regression model does a good job of predicting what a reasonable tip would be, but it does not do a very good job of predicting tipping behavior. So if our goal is to provide reasonable tip recommendations to serve as a guideline for riders, the model could do well. But if our goal is to successfully predict how each individual will tip, it will not generally succeed. This is largely because of non-uniform individual behavior (or possibly due to other factors we can't see in the data). \n",
    "\n",
    "Ultimately, tipping varies from person to person, so that probably explains a lot of the variance. Having data on riders the way Uber or Lyft do might allow me to create tipping profiles of individual users to better predict a tip on each ride. Similarly, Uber and Lyft data on rider and driver ratings might also go a long way towards predicting the quality of the ride and therefore the tip. Once the company is up and running and generating data, I would want to try to improve the tipping recommendation model based on these parameters."
   ]
  },
  {
   "cell_type": "code",
   "execution_count": null,
   "metadata": {},
   "outputs": [],
   "source": []
  }
 ],
 "metadata": {
  "kernelspec": {
   "display_name": "Python 3",
   "language": "python",
   "name": "python3"
  },
  "language_info": {
   "codemirror_mode": {
    "name": "ipython",
    "version": 3
   },
   "file_extension": ".py",
   "mimetype": "text/x-python",
   "name": "python",
   "nbconvert_exporter": "python",
   "pygments_lexer": "ipython3",
   "version": "3.6.4"
  }
 },
 "nbformat": 4,
 "nbformat_minor": 2
}
